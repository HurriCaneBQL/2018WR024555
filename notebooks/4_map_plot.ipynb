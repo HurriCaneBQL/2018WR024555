{
 "cells": [
  {
   "cell_type": "code",
   "execution_count": null,
   "metadata": {},
   "outputs": [],
   "source": [
    "%pylab inline\n",
    "import gc\n",
    "import os\n",
    "import sys\n",
    "import glob\n",
    "import json\n",
    "import shutil\n",
    "import shapely\n",
    "import itertools\n",
    "import importlib\n",
    "import pandas as pd\n",
    "import xarray as xr\n",
    "from numpy import pi\n",
    "import geopandas as gp\n",
    "import summa_plot as sp\n",
    "import dask.array as da\n",
    "import matplotlib as mpl\n",
    "from pprint import pprint \n",
    "from scipy import ndimage\n",
    "from scipy.linalg import det\n",
    "from functools import reduce\n",
    "from jupyterthemes import jtplot\n",
    "import matplotlib.colors as colors\n",
    "from scipy.special import gamma,psi\n",
    "from rasterio import features\n",
    "from affine import Affine\n",
    "import cartopy\n",
    "import cartopy.feature as cfeature\n",
    "import cartopy.crs as ccrs\n",
    "from sklearn.neighbors import NearestNeighbors\n",
    "from summa_plot.spatial import add_map_features\n",
    "jtplot.style(jtplot.infer_theme(), fscale=3.0)\n",
    "jtplot.figsize(x=30, y=22)"
   ]
  },
  {
   "cell_type": "code",
   "execution_count": null,
   "metadata": {},
   "outputs": [],
   "source": [
    "SHAPEFILE= './data/shapefile.shp'\n",
    "WILLAMETTE = './data/subshapes/willamette2.shp'\n",
    "SNAKE = './data/subshapes/snake2.shp'\n",
    "ROCKIES = './data/subshapes/can_rockies.shp'\n",
    "OLYMPIC = './data/subshapes/olympics.shp'\n",
    "NCASCADES = './data/subshapes/north_cascades.shp'\n",
    "gdf_all = gp.GeoDataFrame.from_file(SHAPEFILE)\n",
    "gdf_all = gdf_all.to_crs({'init': 'epsg:4326'})\n",
    "gdf_will = gp.GeoDataFrame.from_file(WILLAMETTE)\n",
    "gdf_will = gdf_will.to_crs({'init': 'epsg:4326'})\n",
    "gdf_snake = gp.GeoDataFrame.from_file(SNAKE)\n",
    "gdf_snake = gdf_snake.to_crs({'init': 'epsg:4326'})\n",
    "gdf_rockies = gp.GeoDataFrame.from_file(ROCKIES)\n",
    "gdf_rockies = gdf_rockies.to_crs({'init': 'epsg:4326'})\n",
    "gdf_olys = gp.GeoDataFrame.from_file(OLYMPIC)\n",
    "gdf_olys = gdf_olys.to_crs({'init': 'epsg:4326'})\n",
    "gdf_cascade = gp.GeoDataFrame.from_file(NCASCADES)\n",
    "gdf_cascade = gdf_cascade.to_crs({'init': 'epsg:4326'})\n",
    "\n",
    "ds = xr.open_dataset('../SUMMA_CRB_Setup/summa_run/summa_zLocalAttributes_columbia_gru.nc')\n",
    "ds = xr.open_dataset('../SUMMA_CRB_Setup/summa_run/summa_zLocalAttributes_fix_elevation.nc')\n",
    "gdf_all['elevation'] = ds['elevation']"
   ]
  },
  {
   "cell_type": "code",
   "execution_count": null,
   "metadata": {},
   "outputs": [],
   "source": [
    "def truncate_colormap(cmap, minval=0.0, maxval=1.0, n=100):\n",
    "    new_cmap = colors.LinearSegmentedColormap.from_list(\n",
    "        'trunc({n},{a:.2f},{b:.2f})'.format(n=cmap.name, a=minval, b=maxval),\n",
    "        cmap(np.linspace(minval, maxval, n)))\n",
    "    return new_cmap\n",
    "\n",
    "cmap = plt.get_cmap('gist_earth')\n",
    "new_cmap = truncate_colormap(cmap, 0.3, 1.0) "
   ]
  },
  {
   "cell_type": "code",
   "execution_count": null,
   "metadata": {},
   "outputs": [],
   "source": [
    "ax = plt.axes(projection=ccrs.Mercator())\n",
    "add_map_features(ax, states_provinces=False)\n",
    "gdf_all.plot(ax=ax, column='elev', cmap=new_cmap, \n",
    "             transform=ccrs.PlateCarree(), linewidth=60, vmin=0)\n",
    "\n",
    "color = 'black'\n",
    "alpha = 0.2\n",
    "gdf_rockies.plot(ax=ax, color=color, edgecolor=color, \n",
    "                 alpha=alpha, transform=ccrs.PlateCarree())\n",
    "gdf_olys.plot(ax=ax, color=color, edgecolor=color, \n",
    "              alpha=alpha, transform=ccrs.PlateCarree())\n",
    "gdf_will.plot(ax=ax, color=color, edgecolor=color,    \n",
    "              alpha=alpha, transform=ccrs.PlateCarree())\n",
    "gdf_snake.plot(ax=ax, color=color, edgecolor=color,   \n",
    "               alpha=alpha, transform=ccrs.PlateCarree())\n",
    "\n",
    "transform = ccrs.Mercator()\n",
    "x, y = transform.transform_point(-122.75, 43.9, ccrs.PlateCarree())\n",
    "plt.text(x, y, 'Willamette')\n",
    "\n",
    "x, y = transform.transform_point(-115.5, 43.75, ccrs.PlateCarree())\n",
    "plt.text(x, y, 'Snake')\n",
    "\n",
    "x, y = transform.transform_point(-123, 46.6, ccrs.PlateCarree())\n",
    "plt.text(x, y, 'Olympic \\n Mountains')\n",
    "\n",
    "x, y = transform.transform_point(-116.75, 51.2, ccrs.PlateCarree())\n",
    "plt.text(x, y, 'Rocky \\n Mountains')\n",
    "\n",
    "x, y = transform.transform_point(-105, 49.2, ccrs.PlateCarree())\n",
    "plt.text(x, y, 'Elevation (m)', rotation=90, fontsize=42)"
   ]
  }
 ],
 "metadata": {
  "kernelspec": {
   "display_name": "all",
   "language": "python",
   "name": "all"
  },
  "language_info": {
   "codemirror_mode": {
    "name": "ipython",
    "version": 3
   },
   "file_extension": ".py",
   "mimetype": "text/x-python",
   "name": "python",
   "nbconvert_exporter": "python",
   "pygments_lexer": "ipython3",
   "version": "3.6.4"
  },
  "latex_envs": {
   "LaTeX_envs_menu_present": true,
   "autoclose": false,
   "autocomplete": true,
   "bibliofile": "biblio.bib",
   "cite_by": "apalike",
   "current_citInitial": 1,
   "eqLabelWithNumbers": true,
   "eqNumInitial": 1,
   "hotkeys": {
    "equation": "Ctrl-E",
    "itemize": "Ctrl-I"
   },
   "labels_anchors": false,
   "latex_user_defs": false,
   "report_style_numbering": false,
   "user_envs_cfg": false
  },
  "toc": {
   "nav_menu": {},
   "number_sections": true,
   "sideBar": true,
   "skip_h1_title": false,
   "title_cell": "Table of Contents",
   "title_sidebar": "Contents",
   "toc_cell": false,
   "toc_position": {},
   "toc_section_display": true,
   "toc_window_display": false
  },
  "varInspector": {
   "cols": {
    "lenName": 16,
    "lenType": 16,
    "lenVar": 40
   },
   "kernels_config": {
    "python": {
     "delete_cmd_postfix": "",
     "delete_cmd_prefix": "del ",
     "library": "var_list.py",
     "varRefreshCmd": "print(var_dic_list())"
    },
    "r": {
     "delete_cmd_postfix": ") ",
     "delete_cmd_prefix": "rm(",
     "library": "var_list.r",
     "varRefreshCmd": "cat(var_dic_list()) "
    }
   },
   "types_to_exclude": [
    "module",
    "function",
    "builtin_function_or_method",
    "instance",
    "_Feature"
   ],
   "window_display": false
  }
 },
 "nbformat": 4,
 "nbformat_minor": 2
}
