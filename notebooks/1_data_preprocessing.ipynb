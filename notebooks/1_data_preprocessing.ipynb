{
 "cells": [
  {
   "cell_type": "markdown",
   "metadata": {
    "toc": true
   },
   "source": [
    "<h1>Table of Contents<span class=\"tocSkip\"></span></h1>\n",
    "<div class=\"toc\"><ul class=\"toc-item\"><li><span><a href=\"#Startup\" data-toc-modified-id=\"Startup-1\">Startup</a></span></li><li><span><a href=\"#Load-data\" data-toc-modified-id=\"Load-data-2\">Load data</a></span></li><li><span><a href=\"#Aggregation-and-writing-output\" data-toc-modified-id=\"Aggregation-and-writing-output-3\">Aggregation and writing output</a></span><ul class=\"toc-item\"><li><span><a href=\"#SUMMA\" data-toc-modified-id=\"SUMMA-3.1\">SUMMA</a></span></li><li><span><a href=\"#VIC\" data-toc-modified-id=\"VIC-3.2\">VIC</a></span></li><li><span><a href=\"#PRMS\" data-toc-modified-id=\"PRMS-3.3\">PRMS</a></span></li></ul></li></ul></div>"
   ]
  },
  {
   "cell_type": "markdown",
   "metadata": {},
   "source": [
    "# Startup"
   ]
  },
  {
   "cell_type": "code",
   "execution_count": null,
   "metadata": {},
   "outputs": [],
   "source": [
    "%pylab inline\n",
    "import xarray as xr\n",
    "import geopandas as gp\n",
    "from rasterio import features\n",
    "from affine import Affine\n",
    "from jupyterthemes import jtplot\n",
    "import cartopy.crs as ccrs\n",
    "\n",
    "daily_slice = slice('01-01-1960', '12-31-2009')\n",
    "out_vars = ['evaporation', 'precipitation', 'runoff', 'swe', 'soil_moisture', 'canopy_moisture']\n",
    "\n",
    "SEC_PER_DAY = 86400\n",
    "MM_PER_M = 1000"
   ]
  },
  {
   "cell_type": "code",
   "execution_count": null,
   "metadata": {},
   "outputs": [],
   "source": [
    "plt.subplots()\n",
    "jtplot.style('grade3', fscale=1.3)\n",
    "jtplot.figsize(x=18, y=10)\n",
    "mpl.rcParams['figure.figsize'] = (18, 10)\n",
    "plt.close()"
   ]
  },
  {
   "cell_type": "markdown",
   "metadata": {},
   "source": [
    "# Load data"
   ]
  },
  {
   "cell_type": "code",
   "execution_count": null,
   "metadata": {},
   "outputs": [],
   "source": [
    "SHAPEFILE = './data/shapefile.shp'\n",
    "SUMMA_WILL = '../willamette_merged.nc'\n",
    "SUMMA_SNAKE = '../snake_merged.nc'\n",
    "SUMMA_ROCKIES = '../rockies_merged.nc'\n",
    "SUMMA_OLYS = '../olympics_merged.nc'\n",
    "PRMS_DATASET = '../prms_data/merged.19500101-20111231.nc'\n",
    "VIC_DATASET = '../vic_data/merged.19500101-20111231.nc'\n",
    "\n",
    "summa_will = xr.open_dataset(SUMMA_WILL).sel(time=daily_slice)\n",
    "summa_snake = xr.open_dataset(SUMMA_SNAKE).sel(time=daily_slice)\n",
    "summa_rockies = xr.open_dataset(SUMMA_ROCKIES).sel(time=daily_slice)\n",
    "summa_olys = xr.open_dataset(SUMMA_OLYS).sel(time=daily_slice)"
   ]
  },
  {
   "cell_type": "markdown",
   "metadata": {},
   "source": [
    "# Aggregation and writing output\n",
    "## SUMMA"
   ]
  },
  {
   "cell_type": "code",
   "execution_count": null,
   "metadata": {},
   "outputs": [],
   "source": [
    "def aggregate_summa(ds):\n",
    "    ds = ds.where(ds['scalarTotalRunoff_mean'] > -100, drop=True)\n",
    "    ds['precipitation'] = ds['pptrate_mean'] * SEC_PER_DAY \n",
    "    ds['precipitation'] = ds['precipitation'].roll(roll_coords=False, time=-1)\n",
    "    ds['evaporation']   = SEC_PER_DAY * (ds['scalarGroundEvaporation_mean']\n",
    "                                         + ds['scalarCanopyEvaporation_mean']\n",
    "                                         + ds['scalarCanopyTranspiration_mean']\n",
    "                                         + ds['scalarSnowSublimation_mean']\n",
    "                                         + ds['scalarCanopySublimation_mean'])\n",
    "    ds['runoff'] = -ds['scalarTotalRunoff_mean'] * SEC_PER_DAY * MM_PER_M\n",
    "    ds['swe'] = -ds['scalarSWE']\n",
    "    ds['soil_moisture'] = -(ds['scalarTotalSoilLiq'] \n",
    "                                  + ds['scalarTotalSoilIce'])\n",
    "    ds['canopy_moisture'] = -(ds['scalarCanopyIce']\n",
    "                                    + ds['scalarCanopyLiq'])\n",
    "    ds = ds[out_vars]\n",
    "    return ds\n",
    "\n",
    "summa_will = aggregate_summa(summa_will)\n",
    "summa_snake = aggregate_summa(summa_snake)\n",
    "summa_rockies = aggregate_summa(summa_rockies)\n",
    "summa_olys = aggregate_summa(summa_olys)"
   ]
  },
  {
   "cell_type": "code",
   "execution_count": null,
   "metadata": {},
   "outputs": [],
   "source": [
    "def transform_from_latlon(lat, lon):\n",
    "    lat = np.asarray(lat)\n",
    "    lon = np.asarray(lon)\n",
    "    trans = Affine.translation(lon[0], lat[0])\n",
    "    scale = Affine.scale(lon[1] - lon[0], lat[1] - lat[0])\n",
    "    return trans * scale\n",
    "\n",
    "def rasterize(shapes, coords, latitude='lat', longitude='lon',\n",
    "              fill=np.nan, **kwargs):\n",
    "    \"\"\"Rasterize a list of (geometry, fill_value) tuples onto the given\n",
    "    xray coordinates. This only works for 1d latitude and longitude\n",
    "    arrays.\n",
    "    \"\"\"\n",
    "    transform = transform_from_latlon(coords[latitude], coords[longitude])\n",
    "    out_shape = (len(coords[latitude]), len(coords[longitude]))\n",
    "    raster = features.rasterize(shapes, out_shape=out_shape,\n",
    "                                fill=fill, transform=transform,\n",
    "                                dtype=float, **kwargs)\n",
    "    spatial_coords = {latitude: coords[latitude], longitude: coords[longitude]}\n",
    "    return xr.DataArray(raster, coords=spatial_coords, dims=(latitude, longitude))"
   ]
  },
  {
   "cell_type": "code",
   "execution_count": null,
   "metadata": {},
   "outputs": [],
   "source": [
    "WILLAMETTE = './data/subshapes/willamette4.shp'\n",
    "SNAKE = './data/subshapes/snake.shp'\n",
    "ROCKIES = './data/subshapes/can_rockies.shp'\n",
    "OLYMPIC = './data/subshapes/olympics.shp'\n",
    "\n",
    "gdf_will = gp.GeoDataFrame.from_file(WILLAMETTE)\n",
    "gdf_will = gdf_will.to_crs({'init': 'epsg:4326'})\n",
    "\n",
    "gdf_snake = gp.GeoDataFrame.from_file(SNAKE)\n",
    "gdf_snake = gdf_snake.to_crs({'init': 'epsg:4326'})\n",
    "\n",
    "gdf_rockies = gp.GeoDataFrame.from_file(ROCKIES)\n",
    "gdf_rockies = gdf_rockies.to_crs({'init': 'epsg:4326'})\n",
    "\n",
    "gdf_olys = gp.GeoDataFrame.from_file(OLYMPIC)\n",
    "tot_hru = set(gdf_olys['hru'].values)\n",
    "gdf_olys = gdf_olys.to_crs({'init': 'epsg:4326'})\n",
    "gdf_olys = gdf_olys[gdf_olys['hru'].isin(summa_olys.hru.values)]\n",
    "torun_hru = tot_hru - set(gdf_olys['hru'])\n",
    "\n",
    "gdf_will = gdf_will[gdf_will['hru'].isin(summa_will.hru.values)]\n",
    "gdf_snake = gdf_snake[gdf_snake['hru'].isin(summa_snake.hru.values)]\n",
    "gdf_rockies = gdf_rockies[gdf_rockies['hru'].isin(summa_rockies.hru.values)]\n",
    "gdf_olys = gdf_olys[gdf_olys['hru'].isin(summa_olys.hru.values)]"
   ]
  },
  {
   "cell_type": "code",
   "execution_count": null,
   "metadata": {
    "scrolled": false
   },
   "outputs": [],
   "source": [
    "# Preprocess SUMMA\n",
    "summa_will    = summa_will.sel(hru=gdf_will['hru'].values)\n",
    "summa_snake   = summa_snake.sel(hru=gdf_snake['hru'].values)\n",
    "summa_rockies = summa_rockies.sel(hru=gdf_rockies['hru'].values)\n",
    "summa_olys    = summa_olys.sel(hru=gdf_olys['hru'].values)\n",
    "\n",
    "regions = [summa_will, summa_snake, summa_rockies, summa_olys]\n",
    "names = ['summa_will', 'summa_snake', 'summa_rockies', 'summa_olys']\n",
    "for r, n in zip(regions, names):\n",
    "    r.to_netcdf('./data/{}.nc'.format(n))"
   ]
  },
  {
   "cell_type": "code",
   "execution_count": null,
   "metadata": {},
   "outputs": [],
   "source": [
    "def scale_to_area(ds, gdf):\n",
    "    wb_vars = ['precipitation', 'swe', 'evaporation', \n",
    "               'runoff', 'soil_moisture', 'canopy_moisture']\n",
    "    for var in wb_vars:\n",
    "        ds[var] = ds[var] * gdf['rel_area'].values\n",
    "    return ds"
   ]
  },
  {
   "cell_type": "code",
   "execution_count": null,
   "metadata": {},
   "outputs": [],
   "source": [
    "summa_will_seas    = (scale_to_area(summa_will, gdf_will) \n",
    "                      / gdf_will['rel_area'].sum()).sum(dim='hru')\n",
    "summa_snake_seas   = (scale_to_area(summa_snake, gdf_snake) \n",
    "                      / gdf_snake['rel_area'].sum()).sum(dim='hru')\n",
    "summa_rockies_seas = (scale_to_area(summa_rockies, gdf_rockies) \n",
    "                      / gdf_rockies['rel_area'].sum()).sum(dim='hru')\n",
    "summa_olys_seas    = (scale_to_area(summa_olys, gdf_olys) \n",
    "                      / gdf_olys['rel_area'].sum()).sum(dim='hru')"
   ]
  },
  {
   "cell_type": "code",
   "execution_count": null,
   "metadata": {},
   "outputs": [],
   "source": [
    "summa_will_seas.to_netcdf('./data/summa_will_info.nc')\n",
    "summa_snake_seas.to_netcdf('./data/summa_snake_info.nc')\n",
    "summa_rockies_seas.to_netcdf('./data/summa_rockies_info.nc')\n",
    "summa_olys_seas.to_netcdf('./data/summa_olys_info.nc')"
   ]
  },
  {
   "cell_type": "markdown",
   "metadata": {},
   "source": [
    "## VIC"
   ]
  },
  {
   "cell_type": "code",
   "execution_count": null,
   "metadata": {},
   "outputs": [],
   "source": [
    "# Load in regions\n",
    "WILLAMETTE = './data/subshapes/willamette.shp'\n",
    "SNAKE = './data/subshapes/snake.shp'\n",
    "ROCKIES = './data/subshapes/can_rockies.shp'\n",
    "OLYMPIC = './data/subshapes/olympics.shp'\n",
    "\n",
    "gdf_will = gp.GeoDataFrame.from_file(WILLAMETTE)\n",
    "gdf_will = gdf_will.to_crs({'init': 'epsg:4326'})\n",
    "\n",
    "gdf_snake = gp.GeoDataFrame.from_file(SNAKE)\n",
    "gdf_snake = gdf_snake.to_crs({'init': 'epsg:4326'})\n",
    "\n",
    "gdf_rockies = gp.GeoDataFrame.from_file(ROCKIES)\n",
    "gdf_rockies = gdf_rockies.to_crs({'init': 'epsg:4326'})\n",
    "\n",
    "gdf_olys = gp.GeoDataFrame.from_file(OLYMPIC)\n",
    "gdf_olys = gdf_olys.to_crs({'init': 'epsg:4326'})\n"
   ]
  },
  {
   "cell_type": "code",
   "execution_count": null,
   "metadata": {},
   "outputs": [],
   "source": [
    "vic_ds = xr.open_dataset(VIC_DATASET).sel(time=daily_slice)\n",
    "\n",
    "vic_ds = vic_ds.sel(time=daily_slice)\n",
    "vic_ds['totRunoff'] = vic_ds['Runoff'] + vic_ds['Baseflow']\n",
    "vic_ds['soil_moisture'] = vic_ds['Soil_liquid'].sum(dim='soil_layers')\n",
    "vic_ds['SWE'] += vic_ds['IWE']\n",
    "vic_ds['canopy_moisture'] = vic_ds['Canopy_intcp_stor']\n",
    "vic_rename_vars = {'Evaporation': 'evaporation',\n",
    "                   'Precipitation': 'precipitation',\n",
    "                   'totRunoff': 'runoff',\n",
    "                   'soil_moisture': 'soil_moisture',\n",
    "                   'canopy_moisture': 'canopy_moisture',\n",
    "                   'SWE': 'swe'}\n",
    "vic_ds = vic_ds.rename(vic_rename_vars)\n",
    "vic_ds = vic_ds[out_vars]\n",
    "vic_ds.to_netcdf('./data/vic_processed.nc')"
   ]
  },
  {
   "cell_type": "code",
   "execution_count": null,
   "metadata": {},
   "outputs": [],
   "source": [
    "# Preprocess VIC\n",
    "shapes = zip(gdf_will.geometry, range(len(gdf_will)))\n",
    "vic_ds['willamette'] = 0.0 * rasterize(shapes, vic_ds.isel(time=0).drop('time').coords) + 1.0\n",
    "vic_will = vic_ds.where(vic_ds['willamette'] == 1.0, drop=True)\n",
    "\n",
    "shapes = zip(gdf_snake.geometry, range(len(gdf_snake)))\n",
    "vic_ds['snake'] = 0.0 * rasterize(shapes, vic_ds.isel(time=0).drop('time').coords) + 1.0\n",
    "vic_snake = vic_ds.where(vic_ds['snake'] == 1.0, drop=True)\n",
    "\n",
    "shapes = zip(gdf_rockies.geometry, range(len(gdf_rockies)))\n",
    "vic_ds['rockies'] = 0.0 * rasterize(shapes, vic_ds.isel(time=0).drop('time').coords) + 1.0\n",
    "vic_rockies = vic_ds.where(vic_ds['rockies'] == 1.0, drop=True)\n",
    "\n",
    "shapes = zip(gdf_olys.geometry, range(len(gdf_olys)))\n",
    "vic_ds['olys'] = 0.0 * rasterize(shapes, vic_ds.isel(time=0).drop('time').coords) + 1.0\n",
    "vic_olys = vic_ds.where(vic_ds['olys'] == 1.0, drop=True)"
   ]
  },
  {
   "cell_type": "code",
   "execution_count": null,
   "metadata": {},
   "outputs": [],
   "source": [
    "regions = [vic_will, vic_snake, vic_rockies, vic_olys]\n",
    "names = ['vic_will', 'vic_snake', 'vic_rockies', 'vic_olys']\n",
    "for r, n in zip(regions, names):\n",
    "    r.to_netcdf('./data/{}.nc'.format(n))"
   ]
  },
  {
   "cell_type": "code",
   "execution_count": null,
   "metadata": {},
   "outputs": [],
   "source": [
    "vic_will_seas = (vic_will.sum(dim=['lat', 'lon']) \n",
    "                 / vic_will['willamette'].sum(skipna=True).values)\n",
    "vic_snake_seas = (vic_snake.sum(dim=['lat', 'lon']) \n",
    "                  / vic_snake['snake'].sum(skipna=True).values)\n",
    "vic_rockies_seas = (vic_rockies.sum(dim=['lat', 'lon']) \n",
    "                    / vic_rockies['rockies'].sum(skipna=True).values)\n",
    "vic_olys_seas = (vic_olys.sum(dim=['lat', 'lon']) \n",
    "                 /vic_olys['olys'].sum(skipna=True).values)"
   ]
  },
  {
   "cell_type": "code",
   "execution_count": null,
   "metadata": {},
   "outputs": [],
   "source": [
    "vic_will_seas.to_netcdf('./data/vic_will_info.nc')\n",
    "vic_snake_seas.to_netcdf('./data/vic_snake_info.nc')\n",
    "vic_rockies_seas.to_netcdf('./data/vic_rockies_info.nc')\n",
    "vic_olys_seas.to_netcdf('./data/vic_olys_info.nc')"
   ]
  },
  {
   "cell_type": "markdown",
   "metadata": {},
   "source": [
    "## PRMS"
   ]
  },
  {
   "cell_type": "code",
   "execution_count": null,
   "metadata": {},
   "outputs": [],
   "source": [
    "prms_ds = xr.open_dataset(PRMS_DATASET).sel(time=daily_slice)\n",
    "prms_ds['Precipitation'] = vic_ds['precipitation']\n",
    "prms_ds = prms_ds.sel(time=daily_slice)\n",
    "prms_ds['Soil_moisture'] = prms_ds['Groundwater_storage'] + prms_ds['Soil_moisture']\n",
    "prms_ds['Runoff'] = prms_ds['Groundwater_flow'] + prms_ds['Subsurface_flow'] + prms_ds['Surface_flow']\n",
    "prms_ds['canopy_moisture'] = 0.0 * prms_ds['Soil_moisture']\n",
    "prms_rename_vars = {'Evaporation': 'evaporation',\n",
    "                    'Precipitation': 'precipitation',\n",
    "                    'Runoff': 'runoff',\n",
    "                    'Soil_moisture': 'soil_moisture',\n",
    "                    'canopy_moisture': 'canopy_moisture',\n",
    "                    'SWE': 'swe'}\n",
    "prms_ds = prms_ds.rename(prms_rename_vars)\n",
    "prms_ds = prms_ds[out_vars]\n",
    "prms_ds.to_netcdf('./data/prms_processed.nc')"
   ]
  },
  {
   "cell_type": "code",
   "execution_count": null,
   "metadata": {},
   "outputs": [],
   "source": [
    "# Preprocess PRMS\n",
    "shapes = zip(gdf_will.geometry, range(len(gdf_will)))\n",
    "prms_ds['willamette'] = 0.0 * rasterize(shapes, prms_ds.isel(time=0).drop('time').coords) + 1.0\n",
    "prms_will = prms_ds.where(prms_ds['willamette'] == 1.0, drop=True)\n",
    "\n",
    "shapes = zip(gdf_snake.geometry, range(len(gdf_snake)))\n",
    "prms_ds['snake'] = 0.0 * rasterize(shapes, prms_ds.isel(time=0).drop('time').coords) + 1.0\n",
    "prms_snake = prms_ds.where(prms_ds['snake'] == 1.0, drop=True)\n",
    "\n",
    "shapes = zip(gdf_rockies.geometry, range(len(gdf_rockies)))\n",
    "prms_ds['rockies'] = 0.0 * rasterize(shapes, prms_ds.isel(time=0).drop('time').coords) + 1.0\n",
    "prms_rockies = prms_ds.where(prms_ds['rockies'] == 1.0, drop=True)\n",
    "\n",
    "shapes = zip(gdf_olys.geometry, range(len(gdf_olys)))\n",
    "prms_ds['olys'] = 0.0 * rasterize(shapes, prms_ds.isel(time=0).drop('time').coords) + 1.0\n",
    "prms_olys = prms_ds.where(prms_ds['olys'] == 1.0, drop=True)\n",
    "\n",
    "regions = [prms_will, prms_snake, prms_rockies, prms_olys]\n",
    "names = ['prms_will', 'prms_snake', 'prms_rockies', 'prms_olys']\n",
    "for r, n in zip(regions, names):\n",
    "    r.to_netcdf('./data/{}.nc'.format(n))"
   ]
  },
  {
   "cell_type": "code",
   "execution_count": null,
   "metadata": {},
   "outputs": [],
   "source": [
    "prms_will_seas = (prms_will.sum(dim=['lat', 'lon']) \n",
    "                  / prms_will['willamette'].sum(skipna=True).values)\n",
    "prms_snake_seas = (prms_snake.sum(dim=['lat', 'lon']) \n",
    "                   / prms_snake['snake'].sum(skipna=True).values)\n",
    "prms_rockies_seas = (prms_rockies.sum(dim=['lat', 'lon']) \n",
    "                     / prms_rockies['rockies'].sum(skipna=True).values)\n",
    "prms_olys_seas = (prms_olys.sum(dim=['lat', 'lon']) \n",
    "                  / prms_olys['olys'].sum(skipna=True).values)"
   ]
  },
  {
   "cell_type": "code",
   "execution_count": null,
   "metadata": {},
   "outputs": [],
   "source": [
    "prms_will_seas.to_netcdf('./data/prms_will_info.nc')\n",
    "prms_snake_seas.to_netcdf('./data/prms_snake_info.nc')\n",
    "prms_rockies_seas.to_netcdf('./data/prms_rockies_info.nc')\n",
    "prms_olys_seas.to_netcdf('./data/prms_olys_info.nc')"
   ]
  }
 ],
 "metadata": {
  "kernelspec": {
   "display_name": "all",
   "language": "python",
   "name": "all"
  },
  "language_info": {
   "codemirror_mode": {
    "name": "ipython",
    "version": 3
   },
   "file_extension": ".py",
   "mimetype": "text/x-python",
   "name": "python",
   "nbconvert_exporter": "python",
   "pygments_lexer": "ipython3",
   "version": "3.6.4"
  },
  "latex_envs": {
   "LaTeX_envs_menu_present": true,
   "autoclose": false,
   "autocomplete": true,
   "bibliofile": "biblio.bib",
   "cite_by": "apalike",
   "current_citInitial": 1,
   "eqLabelWithNumbers": true,
   "eqNumInitial": 1,
   "hotkeys": {
    "equation": "Ctrl-E",
    "itemize": "Ctrl-I"
   },
   "labels_anchors": false,
   "latex_user_defs": false,
   "report_style_numbering": false,
   "user_envs_cfg": false
  },
  "notify_time": "5",
  "toc": {
   "nav_menu": {
    "height": "209px",
    "width": "160px"
   },
   "number_sections": false,
   "sideBar": true,
   "skip_h1_title": false,
   "title_cell": "Table of Contents",
   "title_sidebar": "Contents",
   "toc_cell": true,
   "toc_position": {
    "height": "908px",
    "left": "0px",
    "right": "1541px",
    "top": "98px",
    "width": "379px"
   },
   "toc_section_display": "block",
   "toc_window_display": false
  },
  "varInspector": {
   "cols": {
    "lenName": 16,
    "lenType": 16,
    "lenVar": 40
   },
   "kernels_config": {
    "python": {
     "delete_cmd_postfix": "",
     "delete_cmd_prefix": "del ",
     "library": "var_list.py",
     "varRefreshCmd": "print(var_dic_list())"
    },
    "r": {
     "delete_cmd_postfix": ") ",
     "delete_cmd_prefix": "rm(",
     "library": "var_list.r",
     "varRefreshCmd": "cat(var_dic_list()) "
    }
   },
   "types_to_exclude": [
    "module",
    "function",
    "builtin_function_or_method",
    "instance",
    "_Feature"
   ],
   "window_display": false
  }
 },
 "nbformat": 4,
 "nbformat_minor": 2
}
