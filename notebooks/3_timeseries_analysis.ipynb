{
 "cells": [
  {
   "cell_type": "code",
   "execution_count": null,
   "metadata": {},
   "outputs": [],
   "source": [
    "%pylab inline\n",
    "import shapely\n",
    "import pandas as pd\n",
    "import xarray as xr\n",
    "import geopandas as gp\n",
    "import matplotlib as mpl\n",
    "from functools import reduce\n",
    "from jupyterthemes import jtplot\n",
    "from rasterio import features\n",
    "from affine import Affine\n",
    "import cartopy.crs as ccrs\n",
    "from summa_plot.spatial import add_map_features\n",
    "\n",
    "wb_vars = ['precipitation', 'swe', 'evaporation', 'runoff', 'soil_moisture', 'canopy_moisture', 'dswe', 'dsoil_moisture']"
   ]
  },
  {
   "cell_type": "code",
   "execution_count": null,
   "metadata": {},
   "outputs": [],
   "source": [
    "plt.subplots()\n",
    "jtplot.style('grade3', fscale=1.9)\n",
    "jtplot.figsize(x=18, y=10)\n",
    "mpl.rcParams['figure.figsize'] = (18, 10)\n",
    "plt.close()"
   ]
  },
  {
   "cell_type": "code",
   "execution_count": null,
   "metadata": {},
   "outputs": [],
   "source": [
    "def scale_to_area(ds, gdf):\n",
    "    wb_vars = ['precipitation', 'swe', 'evaporation', 'runoff', 'soil_moisture', 'canopy_moisture']\n",
    "    for var in wb_vars:\n",
    "        ds[var] = ds[var] * gdf['rel_area'].values\n",
    "    return ds\n",
    "\n",
    "def aggregate_seasonal(ds):\n",
    "    return (ds.groupby(ds.time.dt.year)\n",
    "              .apply(lambda x: x.groupby(x.time.dt.season)\n",
    "                                .mean(dim='time')))\n",
    "\n",
    "def subtract_yearly_min(da):\n",
    "    return (da.groupby(da.time.dt.year)\n",
    "            .apply(lambda x: x - x.min(dim='time', skipna=True))\n",
    "            .drop('year'))"
   ]
  },
  {
   "cell_type": "code",
   "execution_count": null,
   "metadata": {},
   "outputs": [],
   "source": [
    "def nmean_square_err(ds1, ds2, agg_dims1, agg_dims2, var):\n",
    "    ts1 = ds1[var].sum(dim=agg_dims1, skipna=True)\n",
    "    ts2 = ds2[var].sum(dim=agg_dims2, skipna=True)\n",
    "    diff = (ts1 - ts2)\n",
    "    low = diff.min(dim='time')\n",
    "    high = diff.max(dim='time')\n",
    "    return diff.groupby(diff.time.dt.year).apply(lambda x: np.mean(np.mean(x)/(high-low))).values \n",
    "\n",
    "def plot_var_boxes(summa, vic, prms):\n",
    "    xlabs = ['SUMMA-PRMS', 'SUMMA_VIC', 'VIC-PRMS']\n",
    "    fig, axes = plt.subplots(2,2, sharex=True, sharey=True)\n",
    "    for i, j, var, name in zip([0,0,1,1], [0,1,0,1], \n",
    "                         ['evaporation','swe','soil_moisture','runoff'],\n",
    "                         ['ET', 'SWE', 'Soil Moisture', 'Runoff']):\n",
    "        mse_ps = nmean_square_err(summa, prms, 'hru', ['lat', 'lon'], var)\n",
    "        mse_vs = nmean_square_err(summa, vic, 'hru', ['lat', 'lon'], var)\n",
    "        mse_vp = nmean_square_err(vic, prms, ['lat', 'lon'], ['lat', 'lon'], var)\n",
    "        mse = [mse_ps, mse_vs, mse_vp]\n",
    "        axes[i][j].boxplot(mse, 0, 'rd')\n",
    "        axes[i][j].set_title(name)\n",
    "        plt.sca(axes[i][j])\n",
    "        plt.xticks(np.arange(1,4), xlabs, rotation=30)\n",
    "        plt.ylabel('NRMSE')\n",
    "    return fig, axes"
   ]
  },
  {
   "cell_type": "markdown",
   "metadata": {},
   "source": [
    "## Load datasets and add region of interest"
   ]
  },
  {
   "cell_type": "code",
   "execution_count": null,
   "metadata": {},
   "outputs": [],
   "source": [
    "WILLAMETTE = './data/subshapes/willamette4.shp'\n",
    "SNAKE = './data/subshapes/snake.shp'\n",
    "ROCKIES = './data/subshapes/can_rockies.shp'\n",
    "OLYMPIC = './data/subshapes/olympics.shp'\n",
    "\n",
    "summa_will    = -1 * xr.open_dataset('./data/summa_will.nc')\n",
    "summa_will['precipitation'] *= -1\n",
    "summa_will['soil_moisture'] =  subtract_yearly_min(summa_will['soil_moisture'])\n",
    "summa_will['swe'] =  subtract_yearly_min(summa_will['swe'])\n",
    "\n",
    "summa_snake   = -1 * xr.open_dataset('./data/summa_snake.nc')\n",
    "summa_snake['precipitation'] *= -1\n",
    "summa_snake['soil_moisture'] =  subtract_yearly_min(summa_snake['soil_moisture'])\n",
    "summa_snake['swe'] =  subtract_yearly_min(summa_snake['swe'])\n",
    "\n",
    "summa_rockies = -1 * xr.open_dataset('./data/summa_rockies.nc')\n",
    "summa_rockies['precipitation'] *= -1\n",
    "summa_rockies['soil_moisture'] =  subtract_yearly_min(summa_rockies['soil_moisture'])\n",
    "summa_rockies['swe'] =  subtract_yearly_min(summa_rockies['swe'])\n",
    "\n",
    "summa_olys    = -1 * xr.open_dataset('./data/summa_olys.nc')\n",
    "summa_olys['precipitation'] *= -1\n",
    "summa_olys['soil_moisture'] =  subtract_yearly_min(summa_olys['soil_moisture'])\n",
    "summa_olys['swe'] =  subtract_yearly_min(summa_olys['swe'])"
   ]
  },
  {
   "cell_type": "code",
   "execution_count": null,
   "metadata": {},
   "outputs": [],
   "source": [
    "\n",
    "# Load in regions\n",
    "gdf_will = gp.GeoDataFrame.from_file(WILLAMETTE)\n",
    "gdf_will = gdf_will.to_crs({'init': 'epsg:4326'})\n",
    "gdf_will = gdf_will[gdf_will['hru'].isin(summa_will.hru.values)]\n",
    "\n",
    "gdf_snake = gp.GeoDataFrame.from_file(SNAKE)\n",
    "gdf_snake = gdf_snake.to_crs({'init': 'epsg:4326'})\n",
    "gdf_snake = gdf_snake[gdf_snake['hru'].isin(summa_snake.hru.values)]\n",
    "\n",
    "gdf_rockies = gp.GeoDataFrame.from_file(ROCKIES)\n",
    "gdf_rockies = gdf_rockies.to_crs({'init': 'epsg:4326'})\n",
    "gdf_rockies = gdf_rockies[gdf_rockies['hru'].isin(summa_rockies.hru.values)]\n",
    "\n",
    "gdf_olys = gp.GeoDataFrame.from_file(OLYMPIC)\n",
    "tot_hru = set(gdf_olys['hru'].values)\n",
    "gdf_olys = gdf_olys.to_crs({'init': 'epsg:4326'})\n",
    "gdf_olys = gdf_olys[gdf_olys['hru'].isin(summa_olys.hru.values)]\n",
    "torun_hru = tot_hru - set(gdf_olys['hru'])\n",
    "\n",
    "summa_will    = summa_will.sel(hru=gdf_will['hru'].values)\n",
    "summa_snake   = summa_snake.sel(hru=gdf_snake['hru'].values)\n",
    "summa_rockies = summa_rockies.sel(hru=gdf_rockies['hru'].values)\n",
    "summa_olys    = summa_olys.sel(hru=gdf_olys['hru'].values)\n",
    "\n",
    "# Preprocess SUMMA\n",
    "summa_will = scale_to_area(summa_will, gdf_will) / gdf_will['rel_area'].sum()\n",
    "summa_snake = scale_to_area(summa_snake, gdf_snake) / gdf_snake['rel_area'].sum()\n",
    "summa_rockies = scale_to_area(summa_rockies, gdf_rockies) / gdf_rockies['rel_area'].sum()\n",
    "summa_olys = scale_to_area(summa_olys, gdf_olys) / gdf_olys['rel_area'].sum()"
   ]
  },
  {
   "cell_type": "code",
   "execution_count": null,
   "metadata": {},
   "outputs": [],
   "source": [
    "vic_will = xr.open_dataset('./data/vic_will.nc')\n",
    "vic_will /= vic_will['willamette'].sum(skipna=True).values\n",
    "vic_will['soil_moisture'] =  subtract_yearly_min(vic_will['soil_moisture'])\n",
    "vic_will['swe'] =  subtract_yearly_min(vic_will['swe'])\n",
    "\n",
    "vic_snake = xr.open_dataset('./data/vic_snake.nc')\n",
    "vic_snake /= vic_snake['snake'].sum(skipna=True).values\n",
    "vic_snake['soil_moisture'] =  subtract_yearly_min(vic_snake['soil_moisture'])\n",
    "vic_snake['swe'] =  subtract_yearly_min(vic_snake['swe'])\n",
    "\n",
    "vic_rockies = xr.open_dataset('./data/vic_rockies.nc')\n",
    "vic_rockies /= vic_rockies['rockies'].sum(skipna=True).values\n",
    "vic_rockies['soil_moisture'] =  subtract_yearly_min(vic_rockies['soil_moisture'])\n",
    "vic_rockies['swe'] =  subtract_yearly_min(vic_rockies['swe'])\n",
    "\n",
    "vic_olys = xr.open_dataset('./data/vic_olys.nc')\n",
    "vic_olys /= vic_olys['olys'].sum(skipna=True).values\n",
    "vic_olys['soil_moisture'] =  subtract_yearly_min(vic_olys['soil_moisture'])\n",
    "vic_olys['swe'] =  subtract_yearly_min(vic_olys['swe'])"
   ]
  },
  {
   "cell_type": "code",
   "execution_count": null,
   "metadata": {},
   "outputs": [],
   "source": [
    "prms_will = xr.open_dataset('./data/prms_will.nc')\n",
    "prms_will /= prms_will['willamette'].sum(skipna=True).values\n",
    "prms_will['soil_moisture'] =  subtract_yearly_min(prms_will['soil_moisture'])\n",
    "prms_will['swe'] =  subtract_yearly_min(prms_will['swe'])\n",
    "\n",
    "prms_snake = xr.open_dataset('./data/prms_snake.nc')\n",
    "prms_snake /= prms_snake['snake'].sum(skipna=True).values\n",
    "prms_snake['soil_moisture'] =  subtract_yearly_min(prms_snake['soil_moisture'])\n",
    "prms_snake['swe'] =  subtract_yearly_min(prms_snake['swe'])\n",
    "\n",
    "prms_rockies = xr.open_dataset('./data/prms_rockies.nc')\n",
    "prms_rockies /= prms_rockies['rockies'].sum(skipna=True).values\n",
    "prms_rockies['soil_moisture'] =  subtract_yearly_min(prms_rockies['soil_moisture'])\n",
    "prms_rockies['swe'] =  subtract_yearly_min(prms_rockies['swe'])\n",
    "\n",
    "prms_olys = xr.open_dataset('./data/prms_olys.nc')\n",
    "prms_olys /= prms_olys['olys'].sum(skipna=True).values\n",
    "prms_olys['soil_moisture'] =  subtract_yearly_min(prms_olys['soil_moisture'])\n",
    "prms_olys['swe'] =  subtract_yearly_min(prms_olys['swe'])"
   ]
  },
  {
   "cell_type": "markdown",
   "metadata": {},
   "source": [
    "## Plot spread amongst years"
   ]
  },
  {
   "cell_type": "code",
   "execution_count": null,
   "metadata": {},
   "outputs": [],
   "source": [
    "def mean_and_bounds(ds, var, agg_dims, quantiles=[0.25, 0.75], summa=False):\n",
    "    median = (ds[var]\n",
    "              .sum(dim=agg_dims, skipna=True)\n",
    "              .groupby(ds.time.dt.dayofyear)\n",
    "              .median(dim='time')\n",
    "              .isel(dayofyear=slice(0,-1)))\n",
    "    lower = (ds[var]\n",
    "              .sum(dim=agg_dims, skipna=True)\n",
    "             .groupby(ds.time.dt.dayofyear)\n",
    "             .apply(lambda x: x.quantile(quantiles[0], dim='time'))\n",
    "             .isel(dayofyear=slice(0,-1)))\n",
    "    upper = (ds[var]\n",
    "              .sum(dim=agg_dims, skipna=True)\n",
    "             .groupby(ds.time.dt.dayofyear)\n",
    "             .apply(lambda x: x.quantile(quantiles[1], dim='time'))\n",
    "             .isel(dayofyear=slice(0,-1)))\n",
    "    median.values =  np.roll(median, 90)\n",
    "    upper.values = np.roll(upper, 90)\n",
    "    lower.values = np.roll(lower, 90)\n",
    "    return median, lower, upper\n",
    "\n",
    "def plot_spread(summa, vic, prms, var, ax=None):\n",
    "    a = 0.3\n",
    "    if not ax:\n",
    "        fig, ax = plt.subplots(nrows=1, ncols=1, sharex=True)\n",
    "    summa_avg, summa_upper, summa_lower =  mean_and_bounds(summa, var, 'hru')\n",
    "    summa_avg.values = np.roll(summa_avg, -1)\n",
    "    summa_upper.values = np.roll(summa_upper, -1)\n",
    "    summa_lower.values = np.roll(summa_lower, -1)\n",
    "    t = summa_avg['dayofyear']\n",
    "    ax.plot(t, summa_avg, lw=3, label='SUMMA', color='darkgreen')\n",
    "    ax.fill_between(t, summa_lower, summa_upper, \n",
    "                    facecolor='darkgreen', alpha=a, label='')\n",
    "    \n",
    "    vic_avg, vic_upper, vic_lower = mean_and_bounds(vic, var, ['lat', 'lon'])\n",
    "    t = vic_avg['dayofyear']\n",
    "    ax.plot(t, vic_avg, lw=3, label='VIC', color='darkorange')\n",
    "    ax.fill_between(t, vic_lower, vic_upper, \n",
    "                    facecolor='darkorange', alpha=a, label='')\n",
    "    \n",
    "    prms_avg, prms_upper, prms_lower = mean_and_bounds(prms, var, ['lat', 'lon'])\n",
    "    t = prms_avg['dayofyear']\n",
    "    ax.plot(t, prms_avg, lw=2.5, label='PRMS', color='darkslateblue')\n",
    "    ax.fill_between(t, prms_lower, prms_upper, \n",
    "                    facecolor='slateblue', alpha=a, label='')\n",
    "    ax.set_xticks([i+15 for i in [1, 32, 60, 91, 121, 152, 182, 213, 244, 274, 305, 335]])\n",
    "    months = ['Oct', 'Nov', 'Dec', 'Jan', 'Feb', 'Mar', 'Apr', 'May', 'Jun', 'Jul', 'Aug', 'Sep']\n",
    "    ax.set_xticklabels(months, rotation=45)\n",
    "    return ax\n",
    "\n",
    "def ts_grid_plot(summa, vic, prms, region):\n",
    "    fig, axes = plt.subplots(nrows=2, ncols=2, sharex=True)\n",
    "    axes[0][0].set_ylabel(\"Flux (mm/month)\")\n",
    "    axes[1][0].set_ylabel(\"Flux (mm/month)\")\n",
    "    axes = axes.flatten()\n",
    "    \n",
    "    plot_spread(summa, vic, prms, 'evaporation', ax=axes[0])\n",
    "    axes[0].set_title(''.format(region))\n",
    "    axes[0].set_ylabel('ET (mm/day)')\n",
    "    \n",
    "    plot_spread(summa, vic, prms, 'soil_moisture', ax=axes[1])\n",
    "    axes[1].set_title(''.format(region))\n",
    "    axes[1].set_ylabel('Soil moisture (mm)')\n",
    "    \n",
    "    plot_spread(summa, vic, prms, 'swe', ax=axes[2])\n",
    "    axes[2].set_title(''.format(region))\n",
    "    axes[2].set_ylabel('SWE (mm)')\n",
    "    \n",
    "    plot_spread(summa, vic, prms, 'runoff', ax=axes[3])\n",
    "    axes[3].set_title(''.format(region))\n",
    "    axes[3].set_ylabel('Runoff (mm/day)')\n",
    "    \n",
    "    axes[0].text(0.05, 0.875, 'a)', transform=axes[0].transAxes)\n",
    "    axes[1].text(0.05, 0.875, 'b)', transform=axes[1].transAxes)\n",
    "    axes[2].text(0.05, 0.875, 'c)', transform=axes[2].transAxes)\n",
    "    axes[3].text(0.3, 0.875, 'd)', transform=axes[3].transAxes)\n",
    "   \n",
    "    plt.legend(fontsize=16)\n",
    "    return fig, axes"
   ]
  },
  {
   "cell_type": "code",
   "execution_count": null,
   "metadata": {},
   "outputs": [],
   "source": [
    "ts_grid_plot(summa_snake, vic_snake, prms_snake, 'Snake')\n",
    "#plt.suptitle('Snake', y=0.98, fontsize=24)"
   ]
  },
  {
   "cell_type": "code",
   "execution_count": null,
   "metadata": {
    "scrolled": false
   },
   "outputs": [],
   "source": [
    "ts_grid_plot(summa_olys, vic_olys, prms_olys, 'Olympics')\n",
    "#plt.suptitle('Olympics', y=0.98, fontsize=24)"
   ]
  },
  {
   "cell_type": "code",
   "execution_count": null,
   "metadata": {
    "scrolled": false
   },
   "outputs": [],
   "source": [
    "f, a = ts_grid_plot(summa_will, vic_will, prms_will, 'Willamette')\n",
    "#plt.suptitle('Willamette', y=0.98, fontsize=24)"
   ]
  },
  {
   "cell_type": "code",
   "execution_count": null,
   "metadata": {},
   "outputs": [],
   "source": [
    "ts_grid_plot(summa_rockies, vic_rockies, prms_rockies, 'Canadian Rockies')\n",
    "#plt.suptitle('Canadian Rockies', y=0.98, fontsize=24)"
   ]
  },
  {
   "cell_type": "code",
   "execution_count": null,
   "metadata": {},
   "outputs": [],
   "source": []
  },
  {
   "cell_type": "code",
   "execution_count": null,
   "metadata": {},
   "outputs": [],
   "source": []
  }
 ],
 "metadata": {
  "kernelspec": {
   "display_name": "all",
   "language": "python",
   "name": "all"
  },
  "language_info": {
   "codemirror_mode": {
    "name": "ipython",
    "version": 3
   },
   "file_extension": ".py",
   "mimetype": "text/x-python",
   "name": "python",
   "nbconvert_exporter": "python",
   "pygments_lexer": "ipython3",
   "version": "3.6.4"
  },
  "latex_envs": {
   "LaTeX_envs_menu_present": true,
   "autoclose": false,
   "autocomplete": true,
   "bibliofile": "biblio.bib",
   "cite_by": "apalike",
   "current_citInitial": 1,
   "eqLabelWithNumbers": true,
   "eqNumInitial": 1,
   "hotkeys": {
    "equation": "Ctrl-E",
    "itemize": "Ctrl-I"
   },
   "labels_anchors": false,
   "latex_user_defs": false,
   "report_style_numbering": false,
   "user_envs_cfg": false
  },
  "notify_time": "0",
  "toc": {
   "nav_menu": {},
   "number_sections": true,
   "sideBar": true,
   "skip_h1_title": false,
   "title_cell": "Table of Contents",
   "title_sidebar": "Contents",
   "toc_cell": false,
   "toc_position": {},
   "toc_section_display": true,
   "toc_window_display": false
  },
  "varInspector": {
   "cols": {
    "lenName": 16,
    "lenType": 16,
    "lenVar": 40
   },
   "kernels_config": {
    "python": {
     "delete_cmd_postfix": "",
     "delete_cmd_prefix": "del ",
     "library": "var_list.py",
     "varRefreshCmd": "print(var_dic_list())"
    },
    "r": {
     "delete_cmd_postfix": ") ",
     "delete_cmd_prefix": "rm(",
     "library": "var_list.r",
     "varRefreshCmd": "cat(var_dic_list()) "
    }
   },
   "types_to_exclude": [
    "module",
    "function",
    "builtin_function_or_method",
    "instance",
    "_Feature"
   ],
   "window_display": false
  }
 },
 "nbformat": 4,
 "nbformat_minor": 2
}
