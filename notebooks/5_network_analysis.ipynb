{
 "cells": [
  {
   "cell_type": "code",
   "execution_count": null,
   "metadata": {},
   "outputs": [],
   "source": [
    "%pylab inline\n",
    "import pandas as pd\n",
    "import xarray as xr\n",
    "import geopandas as gp\n",
    "from functools import reduce\n",
    "from jupyterthemes import jtplot\n",
    "import hyeenna as hy\n",
    "jtplot.style(jtplot.infer_theme(), fscale=1.8)\n",
    "jtplot.figsize(x=16, y=10)\n",
    "\n",
    "wb_vars = ['precipitation', 'swe', 'evaporation', 'runoff', 'soil_moisture']"
   ]
  },
  {
   "cell_type": "code",
   "execution_count": null,
   "metadata": {},
   "outputs": [],
   "source": [
    "plt.plot([0])\n",
    "jtplot.figsize(x=10, y=8)\n",
    "plt.close()"
   ]
  },
  {
   "cell_type": "code",
   "execution_count": null,
   "metadata": {},
   "outputs": [],
   "source": [
    "def subtract_yearly_min(da):\n",
    "    return (da.groupby(da.time.dt.year)\n",
    "            .apply(lambda x: x - x.min(dim='time', skipna=True))\n",
    "            .drop('year'))\n",
    "\n",
    "def fix(ds):\n",
    "    ds *= -1\n",
    "    ds['precipitation'] *= -1\n",
    "    return ds\n",
    "\n",
    "def raw_data(data_array):\n",
    "    return data_array.values.flatten()\n",
    "\n",
    "def get_data(ds, dvars=True):\n",
    "    evap     = raw_data(ds['evaporation'])[1:]\n",
    "    runoff   = raw_data(ds['runoff'])[1:]\n",
    "    precip   = raw_data(ds['precipitation'])[1:]\n",
    "    if dvars:\n",
    "        soil_liq = raw_data(ds['soil_moisture'].diff(dim='time'))\n",
    "        swe      = raw_data(ds['swe'].diff(dim='time'))\n",
    "        names = ['R', 'ET', 'P', 'ΔSM', 'ΔSWE']\n",
    "    else:\n",
    "        soil_liq = raw_data(ds['soil_moisture'])[1:]\n",
    "        swe      = raw_data(ds['swe'])[1:]\n",
    "        names = ['R', 'ET', 'P', 'SM', 'SWE']\n",
    "    varlist = [runoff, evap, precip, soil_liq, swe]\n",
    "    varlist = [((v - v.mean()) / v.std()).flatten() for v in varlist]\n",
    "    varlist = [v.flatten() for v in varlist]\n",
    "    #varlist = [v[::-1] for v in varlist]\n",
    "    return names, varlist"
   ]
  },
  {
   "cell_type": "code",
   "execution_count": null,
   "metadata": {},
   "outputs": [],
   "source": [
    "summa_will = fix(xr.open_dataset('./data/summa_will_info.nc'))\n",
    "summa_will['swe'] = subtract_yearly_min(summa_will['swe'])\n",
    "summa_will['soil_moisture'] = subtract_yearly_min(summa_will['soil_moisture'])\n",
    "\n",
    "summa_snake = fix(xr.open_dataset('./data/summa_snake_info.nc'))\n",
    "summa_snake['swe'] = subtract_yearly_min(summa_snake['swe'])\n",
    "summa_snake['soil_moisture'] = subtract_yearly_min(summa_snake['soil_moisture'])\n",
    "\n",
    "summa_rockies = fix(xr.open_dataset('./data/summa_rockies_info.nc'))\n",
    "summa_rockies['swe'] = subtract_yearly_min(summa_rockies['swe'])\n",
    "summa_rockies['soil_moisture'] = subtract_yearly_min(summa_rockies['soil_moisture'])\n",
    "\n",
    "summa_olys = fix(xr.open_dataset('./data/summa_olys_info.nc'))\n",
    "summa_olys['swe'] = subtract_yearly_min(summa_olys['swe'])\n",
    "summa_olys['soil_moisture'] = subtract_yearly_min(summa_olys['soil_moisture'])\n",
    "\n",
    "vic_will = xr.open_dataset('./data/vic_will_info.nc')\n",
    "vic_will['swe'] = subtract_yearly_min(vic_will['swe'])\n",
    "vic_will['soil_moisture'] = subtract_yearly_min(vic_will['soil_moisture'])\n",
    "\n",
    "vic_snake = xr.open_dataset('./data/vic_snake_info.nc')\n",
    "vic_snake['swe'] = subtract_yearly_min(vic_snake['swe'])\n",
    "vic_snake['soil_moisture'] = subtract_yearly_min(vic_snake['soil_moisture'])\n",
    "\n",
    "vic_rockies = xr.open_dataset('./data/vic_rockies_info.nc')\n",
    "vic_rockies['swe'] = subtract_yearly_min(vic_rockies['swe'])\n",
    "vic_rockies['soil_moisture'] = subtract_yearly_min(vic_rockies['soil_moisture'])\n",
    "\n",
    "vic_olys = xr.open_dataset('./data/vic_olys_info.nc')\n",
    "vic_olys['swe'] = subtract_yearly_min(vic_olys['swe'])\n",
    "vic_olys['soil_moisture'] = subtract_yearly_min(vic_olys['soil_moisture'])\n",
    "\n",
    "prms_will = xr.open_dataset('./data/prms_will_info.nc')\n",
    "prms_will['swe'] = subtract_yearly_min(prms_will['swe'])\n",
    "prms_will['soil_moisture'] = subtract_yearly_min(prms_will['soil_moisture'])\n",
    "\n",
    "prms_snake = xr.open_dataset('./data/prms_snake_info.nc')\n",
    "prms_snake['swe'] = subtract_yearly_min(prms_snake['swe'])\n",
    "prms_snake['soil_moisture'] = subtract_yearly_min(prms_snake['soil_moisture'])\n",
    "\n",
    "prms_rockies = xr.open_dataset('./data/prms_rockies_info.nc')\n",
    "prms_rockies['swe'] = subtract_yearly_min(prms_rockies['swe'])\n",
    "prms_rockies['soil_moisture'] = subtract_yearly_min(prms_rockies['soil_moisture'])\n",
    "\n",
    "prms_olys = xr.open_dataset('./data/prms_olys_info.nc')\n",
    "prms_olys['swe'] = subtract_yearly_min(prms_olys['swe'])\n",
    "prms_olys['soil_moisture'] = subtract_yearly_min(prms_olys['soil_moisture'])"
   ]
  },
  {
   "cell_type": "code",
   "execution_count": null,
   "metadata": {},
   "outputs": [],
   "source": [
    "analysis_dict = {\n",
    "    'summa_will': summa_will,\n",
    "    'summa_snake': summa_snake,\n",
    "    'summa_rockies': summa_rockies,\n",
    "    'summa_olys': summa_olys,\n",
    "    'vic_will': vic_will,\n",
    "    'vic_snake': vic_snake,\n",
    "    'vic_rockies': vic_rockies,\n",
    "    'vic_olys': vic_olys,\n",
    "    'prms_will': prms_will,\n",
    "    'prms_snake': prms_snake,\n",
    "    'prms_rockies': prms_rockies,\n",
    "    'prms_olys': prms_olys\n",
    "}\n",
    "season = ('JJA', 'MAM', 'DJF', 'SON')\n",
    "for k, v in analysis_dict.items():\n",
    "    print(k)\n",
    "    analysis_dict[k] = v#.where(v.time.dt.season=='SON', drop=True)#resample(time='W').mean()\n",
    "    #sub = v.resample(time='W').sum(dim='time')\n",
    "    #sub['swe'].values = v['swe'].resample(time='W').mean(dim='time')\n",
    "    #sub['soil_moisture'].values = v['soil_moisture'].resample(time='W').mean(dim='time')\n",
    "    #analysis_dict[k] = sub\n"
   ]
  },
  {
   "cell_type": "code",
   "execution_count": null,
   "metadata": {},
   "outputs": [],
   "source": [
    "name = 'summa_will'\n",
    "ds = analysis_dict[name]\n",
    "names, varlist = get_data(ds, dvars=True)\n",
    "df = hy.estimate_info_transfer_network(\n",
    "                         varlist, names,  condition=False,\n",
    "                         tau=1, omega=1, nu=1, k=1, l=1, m=1,\n",
    "                         sample_size=5000, nruns=30)\n",
    "df.to_csv('./data/network_data/{}.csv'.format(name))"
   ]
  },
  {
   "cell_type": "code",
   "execution_count": null,
   "metadata": {},
   "outputs": [],
   "source": [
    "colors = [matplotlib.colors.to_hex(plt.cm.Dark2(i), keep_alpha=False) \n",
    "          for i in np.linspace(0, 1, len(names))] \n",
    "colors = ['#83a83b', '#3472c6', '#c44e52', '#8172b2', '#ff914d']\n",
    "np.fill_diagonal(df.values, 0)\n",
    "hy.plot_chords(df.values.T, names, colors, 0.85) #[0.3, 0.3, 0.3, 0.9, 0.3])"
   ]
  }
 ],
 "metadata": {
  "kernelspec": {
   "display_name": "all",
   "language": "python",
   "name": "all"
  },
  "language_info": {
   "codemirror_mode": {
    "name": "ipython",
    "version": 3
   },
   "file_extension": ".py",
   "mimetype": "text/x-python",
   "name": "python",
   "nbconvert_exporter": "python",
   "pygments_lexer": "ipython3",
   "version": "3.6.4"
  },
  "latex_envs": {
   "LaTeX_envs_menu_present": true,
   "autoclose": false,
   "autocomplete": false,
   "bibliofile": "biblio.bib",
   "cite_by": "apalike",
   "current_citInitial": 1,
   "eqLabelWithNumbers": true,
   "eqNumInitial": 1,
   "hotkeys": {
    "equation": "Ctrl-E",
    "itemize": "Ctrl-I"
   },
   "labels_anchors": false,
   "latex_user_defs": false,
   "report_style_numbering": false,
   "user_envs_cfg": false
  },
  "toc": {
   "nav_menu": {},
   "number_sections": true,
   "sideBar": true,
   "skip_h1_title": false,
   "title_cell": "Table of Contents",
   "title_sidebar": "Contents",
   "toc_cell": false,
   "toc_position": {},
   "toc_section_display": true,
   "toc_window_display": false
  },
  "varInspector": {
   "cols": {
    "lenName": 16,
    "lenType": 16,
    "lenVar": 40
   },
   "kernels_config": {
    "python": {
     "delete_cmd_postfix": "",
     "delete_cmd_prefix": "del ",
     "library": "var_list.py",
     "varRefreshCmd": "print(var_dic_list())"
    },
    "r": {
     "delete_cmd_postfix": ") ",
     "delete_cmd_prefix": "rm(",
     "library": "var_list.r",
     "varRefreshCmd": "cat(var_dic_list()) "
    }
   },
   "types_to_exclude": [
    "module",
    "function",
    "builtin_function_or_method",
    "instance",
    "_Feature"
   ],
   "window_display": false
  }
 },
 "nbformat": 4,
 "nbformat_minor": 2
}
