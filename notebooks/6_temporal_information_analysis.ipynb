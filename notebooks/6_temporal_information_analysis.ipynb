{
 "cells": [
  {
   "cell_type": "code",
   "execution_count": null,
   "metadata": {},
   "outputs": [],
   "source": [
    "%pylab inline\n",
    "import os\n",
    "import sys\n",
    "import glob\n",
    "import json\n",
    "import itertools\n",
    "import importlib\n",
    "import pandas as pd\n",
    "import xarray as xr\n",
    "from numpy import pi\n",
    "import geopandas as gp\n",
    "import summa_plot as sp\n",
    "import matplotlib as mpl\n",
    "from pprint import pprint \n",
    "from functools import reduce\n",
    "from jupyterthemes import jtplot\n",
    "from summa_plot.spatial import add_map_features\n",
    "import hyeenna as hy\n",
    "jtplot.style(jtplot.infer_theme(), fscale=2.2)\n",
    "jtplot.style('grade3', fscale=2.2)\n",
    "jtplot.figsize(x=13, y=13)\n",
    "hy = importlib.reload(hy)"
   ]
  },
  {
   "cell_type": "code",
   "execution_count": null,
   "metadata": {},
   "outputs": [],
   "source": [
    "plt.plot([0])\n",
    "jtplot.figsize(x=20, y=16)\n",
    "plt.clf()"
   ]
  },
  {
   "cell_type": "code",
   "execution_count": null,
   "metadata": {},
   "outputs": [],
   "source": [
    "def fix(ds):\n",
    "    ds *= -1\n",
    "    ds['precipitation'] *= -1\n",
    "    return ds\n",
    "\n",
    "def subtract_yearly_min(da):\n",
    "    return (da.groupby(da.time.dt.year)\n",
    "            .apply(lambda x: x - x.min(dim='time', skipna=True))\n",
    "            .drop('year'))\n"
   ]
  },
  {
   "cell_type": "code",
   "execution_count": null,
   "metadata": {},
   "outputs": [],
   "source": [
    "summa_will =    fix(xr.open_dataset('./data/summa_will.nc'))\n",
    "summa_snake =   fix(xr.open_dataset('./data/summa_snake.nc'))\n",
    "summa_rockies = fix(xr.open_dataset('./data/summa_rockies.nc'))\n",
    "summa_olys =    fix(xr.open_dataset('./data/summa_olys.nc'))"
   ]
  },
  {
   "cell_type": "code",
   "execution_count": null,
   "metadata": {},
   "outputs": [],
   "source": [
    "summa_will['swe'] = subtract_yearly_min(summa_will['swe'])\n",
    "summa_will['soil_moisture'] = subtract_yearly_min(summa_will['soil_moisture'])\n",
    "\n",
    "summa_snake['swe'] = subtract_yearly_min(summa_snake['swe'])\n",
    "summa_snake['soil_moisture'] = subtract_yearly_min(summa_snake['soil_moisture'])\n",
    "\n",
    "summa_rockies['swe'] = subtract_yearly_min(summa_rockies['swe'])\n",
    "summa_rockies['soil_moisture'] = subtract_yearly_min(summa_rockies['soil_moisture'])\n",
    "\n",
    "summa_olys['swe'] = subtract_yearly_min(summa_olys['swe'])\n",
    "summa_olys['soil_moisture'] = subtract_yearly_min(summa_olys['soil_moisture'])"
   ]
  },
  {
   "cell_type": "code",
   "execution_count": null,
   "metadata": {},
   "outputs": [],
   "source": [
    "vic_will = xr.open_dataset('./data/vic_will.nc')\n",
    "vic_will = vic_will.where(vic_will['willamette'] == 1, drop=True)\n",
    "vic_snake = xr.open_dataset('./data/vic_snake.nc')\n",
    "vic_snake = vic_snake.where(vic_snake['snake'] == 1, drop=True)\n",
    "vic_rockies = xr.open_dataset('./data/vic_rockies.nc')\n",
    "vic_rockies = vic_rockies.where(vic_rockies['rockies'] == 1, drop=True)\n",
    "vic_olys = xr.open_dataset('./data/vic_olys.nc')\n",
    "vic_olys = vic_olys.where(vic_olys['olys'] == 1, drop=True)\n",
    "\n",
    "prms_will = xr.open_dataset('./data/prms_will.nc')\n",
    "prms_will = prms_will.where(prms_will['willamette'] == 1, drop=True)\n",
    "prms_snake = xr.open_dataset('./data/prms_snake.nc')\n",
    "prms_snake = prms_snake.where(prms_snake['snake'] == 1, drop=True)\n",
    "prms_rockies = xr.open_dataset('./data/prms_rockies.nc')\n",
    "prms_rockies = prms_rockies.where(prms_rockies['rockies'] == 1, drop=True)\n",
    "prms_olys = xr.open_dataset('./data/prms_olys.nc')\n",
    "prms_olys = prms_olys.where(prms_olys['olys'] == 1, drop=True)"
   ]
  },
  {
   "cell_type": "code",
   "execution_count": null,
   "metadata": {},
   "outputs": [],
   "source": [
    "analysis_dict = {\n",
    "    'summa_will': summa_will,\n",
    "    'summa_snake': summa_snake,\n",
    "    'summa_rockies': summa_rockies,\n",
    "    'summa_olys': summa_olys,\n",
    "    'vic_will': vic_will,\n",
    "    'vic_snake': vic_snake,\n",
    "    'vic_rockies': vic_rockies,\n",
    "    'vic_olys': vic_olys,\n",
    "    'prms_will': prms_will,\n",
    "    'prms_snake': prms_snake,\n",
    "    'prms_rockies': prms_rockies,\n",
    "    'prms_olys': prms_olys\n",
    "}\n",
    "for k, v in analysis_dict.items():\n",
    "    print(k)\n",
    "    #v['weekofyear'] = v.time.dt.weekofyear\n",
    "    #analysis_dict[k] = v#.where(v.time.dt.season=='SON', drop=True)#resample(time='W').mean()\n",
    "    sub = v.resample(time='M').sum(dim='time')\n",
    "    sub['swe'].values           = v['swe'].resample(time='M').mean(dim='time')\n",
    "    sub['soil_moisture'].values = v['soil_moisture'].resample(time='M').mean(dim='time')\n",
    "    \n",
    "    #sub = v.resample(time='W').sum(dim='time')\n",
    "    #sub['swe'].values           = v['swe'].resample(time='W').mean(dim='time')\n",
    "    #sub['soil_moisture'].values = v['soil_moisture'].resample(time='W').mean(dim='time')\n",
    "    \n",
    "    sub['weekofyear'] = sub.time.dt.weekofyear\n",
    "    sub['month'] = sub.time.dt.month\n",
    "    analysis_dict[k] = sub\n"
   ]
  },
  {
   "cell_type": "code",
   "execution_count": null,
   "metadata": {},
   "outputs": [],
   "source": [
    "def raw_data(data_array):\n",
    "    return data_array.values.flatten()\n",
    "\n",
    "def get_data(ds, dvars=True):\n",
    "    evap     = raw_data(ds['evaporation'])[2:]\n",
    "    runoff   = raw_data(ds['runoff'])[2:]\n",
    "    precip   = raw_data(ds['precipitation'])[2:]\n",
    "    if dvars:\n",
    "        soil_liq = np.diff(raw_data(ds['soil_moisture']))[1:]\n",
    "        swe      = np.diff(raw_data(ds['swe']))[1:]\n",
    "        names = ['R', 'ET', 'P', 'ΔSM', 'ΔSWE']\n",
    "    else:\n",
    "        soil_liq = raw_data(ds['soil_moisture'])[2:]\n",
    "        swe      = raw_data(ds['swe'])[2:]\n",
    "        names = ['R', 'ET', 'P', 'SM', 'SWE']\n",
    "    varlist = [runoff, evap, precip, soil_liq, swe]\n",
    "    return names, varlist"
   ]
  },
  {
   "cell_type": "code",
   "execution_count": null,
   "metadata": {},
   "outputs": [],
   "source": [
    "def data_dict(ds, dvars=True):\n",
    "    n, v = get_data(ds, dvars)\n",
    "    return {k: v for k, v in zip(n, v)}\n",
    "\n",
    "def filter_data(filter_func, *args):\n",
    "    args = args[0]\n",
    "    mpdt = list(map(filter_func, args))\n",
    "    good_inds = reduce(np.intersect1d, mpdt)\n",
    "    args = [x[good_inds] for x in args]\n",
    "    run = args[0]\n",
    "    good_inds = np.argwhere(run>0)\n",
    "    return [x[good_inds] for x in args]\n",
    "\n",
    "def notnan(x):\n",
    "    return np.argwhere(np.logical_and(~np.isnan(x), x>-1000))"
   ]
  },
  {
   "cell_type": "code",
   "execution_count": null,
   "metadata": {},
   "outputs": [],
   "source": [
    "def ts_info_transfer(ds, key='weekofyear'):\n",
    "    def _call(y, xm, ym, how='mean'):\n",
    "        return hy.estimator_stats(\n",
    "                   hy.conditional_mutual_info,\n",
    "                   data={'X': y,  'Y': xm, 'Z': ym},\n",
    "                   params={}, \n",
    "                   nruns=20, sample_size=3000\n",
    "               )[how]\n",
    "    precip, et, swe, sm = [], [], [], []\n",
    "    \n",
    "    for woy in np.unique(ds[key]):\n",
    "        print(woy)\n",
    "        woy2 = woy - 1\n",
    "        if woy2 == 0: woy2 = np.unique(ds[key].values)[-1]\n",
    "        ds1 = ds.where(ds[key] == woy, drop=True)\n",
    "        ds2 = ds.where(ds[key] == woy2, drop=True)\n",
    "        rnow = data_dict(ds1)['R']\n",
    "        dd2 = data_dict(ds2)\n",
    "        names, data1 = dd2.keys(), dd2.values()\n",
    "        rnow, *data1 = filter_data(notnan, [rnow, *data1])\n",
    "        \n",
    "        names = ['R', 'ET', 'P', 'ΔSM', 'ΔSWE']\n",
    "        et.append(_call(    rnow, data1[1], data1[0]))\n",
    "        precip.append(_call(rnow, data1[2], data1[0]))\n",
    "        sm.append(_call(    rnow, data1[3], data1[0]))\n",
    "        swe.append(_call(   rnow, data1[4], data1[0]))\n",
    "    \n",
    "    precip = np.array(precip)\n",
    "    et = np.array(et)\n",
    "    swe = np.array(swe)\n",
    "    sm = np.array(sm)\n",
    "    \n",
    "    precip[precip < 0] = 0\n",
    "    et[et < 0] = 0\n",
    "    swe[swe < 0] = 0\n",
    "    sm[sm < 0] = 0\n",
    "    \n",
    "    weekly_df = pd.DataFrame(index=np.unique(ds[key]))\n",
    "    weekly_df['P']    = np.roll(precip, 3)#14)\n",
    "    weekly_df['ET']   = np.roll(et, 3)#14)\n",
    "    weekly_df['ΔSM']  = np.roll(sm, 3)#14)\n",
    "    weekly_df['ΔSWE'] = np.roll(swe, 3)#14)\n",
    "    return weekly_df"
   ]
  },
  {
   "cell_type": "code",
   "execution_count": null,
   "metadata": {},
   "outputs": [],
   "source": [
    "loc = 'rockies'\n",
    "summa_ts_df = ts_info_transfer(analysis_dict['summa_{}'.format(loc)], 'month')"
   ]
  },
  {
   "cell_type": "code",
   "execution_count": null,
   "metadata": {},
   "outputs": [],
   "source": [
    "vic_ts_df = ts_info_transfer(analysis_dict['vic_{}'.format(loc)], 'month')"
   ]
  },
  {
   "cell_type": "code",
   "execution_count": null,
   "metadata": {},
   "outputs": [],
   "source": [
    "prms_ts_df = ts_info_transfer(analysis_dict['prms_{}'.format(loc)], 'month')"
   ]
  },
  {
   "cell_type": "code",
   "execution_count": null,
   "metadata": {
    "scrolled": false
   },
   "outputs": [],
   "source": [
    "fig, ax = plt.subplots(nrows=3, ncols=1, sharex=True)\n",
    "ax = ax.flatten()\n",
    "ymax = 1.1*np.max([summa_ts_df.sum(axis=1).max(),\n",
    "               vic_ts_df.sum(axis=1).max(), \n",
    "               prms_ts_df.sum(axis=1).max()])\n",
    "summa_ts_df.plot.area(color=['#c44e52', '#3472c6', '#8172b2', '#ff914d'], ax=ax[0], legend=False)\n",
    "vic_ts_df.plot.area(color=['#c44e52', '#3472c6', '#8172b2', '#ff914d'], ax=ax[1], legend=False)\n",
    "prms_ts_df.plot.area(color=['#c44e52', '#3472c6', '#8172b2', '#ff914d'], ax=ax[2], legend=False)\n",
    "ax[0].set_xticks([i for i in [4.2*i for i in range(1, 13)]])\n",
    "ax[0].set_xticks([i for i in [i for i in range(1, 13)]])\n",
    "months = ['Oct', 'Nov', 'Dec', 'Jan', 'Feb', 'Mar', 'Apr', 'May', 'Jun', 'Jul', 'Aug', 'Sep']\n",
    "#months = ['Jan', 'Feb', 'Mar', 'Apr', 'May', 'Jun', 'Jul', 'Aug', 'Sep', 'Oct', 'Nov', 'Dec']\n",
    "ax[2].set_xticklabels(months, rotation=30)\n",
    "#ax[0].set_xlim([1, 53])\n",
    "ax[0].set_xlim([1, 12])\n",
    "\n",
    "ax[0].set_ylim([0, ymax])\n",
    "ax[1].set_ylim([0, ymax])\n",
    "ax[2].set_ylim([0, ymax])\n",
    "\n",
    "ax[0].set_title('SUMMA')\n",
    "ax[1].set_title('VIC')\n",
    "ax[2].set_title('PRMS')\n",
    "for a in ax:\n",
    "    a.grid(False)\n",
    "ax[1].set_ylabel('Information transferred to runoff (nats)')"
   ]
  },
  {
   "cell_type": "code",
   "execution_count": null,
   "metadata": {},
   "outputs": [],
   "source": []
  },
  {
   "cell_type": "code",
   "execution_count": null,
   "metadata": {},
   "outputs": [],
   "source": [
    "def weekly_info_transfer(ds):\n",
    "    def _call(y, xm, ym):\n",
    "        return hy.estimator_stats(\n",
    "                   hy.conditional_mutual_info,\n",
    "                   data={'X': y,  'Y': xm, 'Z': ym},\n",
    "                   params={}, #{'tau': 1, 'omega': 1, 'l': 1, 'k': 1},\n",
    "                   nruns=30, sample_size=3000\n",
    "               )['mean']\n",
    "    \n",
    "    precip, et, swe, sm = [], [], [], []\n",
    "    for woy in np.unique(ds['weekofyear']):\n",
    "        woy2 = woy - 1\n",
    "        if woy2 == 0: woy2 = 52\n",
    "        ds1 = ds.where(ds['weekofyear'] == woy, drop=True)\n",
    "        ds2 = ds.where(ds['weekofyear'] == woy2, drop=True)\n",
    "        rnow = get_data(ds1)[-1][1]\n",
    "        names, data1 = get_data(ds2)\n",
    "        names = ['R', 'ET', 'P', 'ΔSM', 'ΔSWE']\n",
    "        et.append(_call(    rnow, data1[0], data1[1]))\n",
    "        precip.append(_call(rnow, data1[2], data1[1]))\n",
    "        sm.append(_call(    rnow, data1[3], data1[1]))\n",
    "        swe.append(_call(   rnow, data1[4], data1[1]))\n",
    "    \n",
    "    precip = np.array(precip)\n",
    "    et = np.array(et)\n",
    "    swe = np.array(swe)\n",
    "    sm = np.array(sm)\n",
    "    \n",
    "    precip[precip < 0] = 0\n",
    "    et[et < 0] = 0\n",
    "    swe[swe < 0] = 0\n",
    "    sm[sm < 0] = 0\n",
    "    \n",
    "    weekly_df = pd.DataFrame(index=np.unique(ds['weekofyear']))\n",
    "    smooth = lambda x: np.mean([np.roll(x, -1), x, np.roll(x, 1)],  axis=0)\n",
    "    weekly_df['P']    = np.roll(smooth(precip), 15)\n",
    "    weekly_df['R']   = np.roll(smooth(et), 15)\n",
    "    weekly_df['ΔSM']  = np.roll(smooth(sm), 15)\n",
    "    weekly_df['ΔSWE'] = np.roll(smooth(swe), 15)\n",
    "    return weekly_df"
   ]
  },
  {
   "cell_type": "code",
   "execution_count": null,
   "metadata": {},
   "outputs": [],
   "source": [
    "vic_weekly_df = weekly_info_transfer(analysis_dict['vic_will'])\n",
    "summa_weekly_df = weekly_info_transfer(analysis_dict['summa_will'])\n",
    "prms_weekly_df = weekly_info_transfer(analysis_dict['prms_will'])"
   ]
  },
  {
   "cell_type": "code",
   "execution_count": null,
   "metadata": {},
   "outputs": [],
   "source": [
    "fig, ax = plt.subplots(nrows=3, ncols=1, sharex=True)\n",
    "ax = ax.flatten()\n",
    "summa_weekly_df.plot.area(color=['#c44e52', '#83a83b', '#8172b2', '#ff914d'], ax=ax[0], legend=False)\n",
    "vic_weekly_df.plot.area(color=['#c44e52',   '#83a83b', '#8172b2', '#ff914d'], ax=ax[1])\n",
    "prms_weekly_df.plot.area(color=['#c44e52',  '#83a83b', '#8172b2', '#ff914d'], ax=ax[2], legend=False)\n",
    "#ax[0].set_xticks([i for i in [4.1*i for i in range(1, 13)]])\n",
    "months = ['Oct', 'Nov', 'Dec', 'Jan', 'Feb', 'Mar', 'Apr', 'May', 'Jun', 'Jul', 'Aug', 'Sep']\n",
    "ax[0].set_xticklabels(months, rotation=45)\n",
    "ax[0].set_xlim([1, 53])\n",
    "ax[0].set_xlim([1, 12])\n",
    "ax[0].set_title('SUMMA')\n",
    "ax[1].set_title('VIC')\n",
    "ax[2].set_title('PRMS')\n",
    "for a in ax:\n",
    "    a.grid(False)\n",
    "ax[1].set_ylabel('Information transferred to ET (nats)')"
   ]
  },
  {
   "cell_type": "code",
   "execution_count": null,
   "metadata": {},
   "outputs": [],
   "source": []
  }
 ],
 "metadata": {
  "kernelspec": {
   "display_name": "all",
   "language": "python",
   "name": "all"
  },
  "language_info": {
   "codemirror_mode": {
    "name": "ipython",
    "version": 3
   },
   "file_extension": ".py",
   "mimetype": "text/x-python",
   "name": "python",
   "nbconvert_exporter": "python",
   "pygments_lexer": "ipython3",
   "version": "3.6.4"
  },
  "latex_envs": {
   "LaTeX_envs_menu_present": true,
   "autoclose": false,
   "autocomplete": false,
   "bibliofile": "biblio.bib",
   "cite_by": "apalike",
   "current_citInitial": 1,
   "eqLabelWithNumbers": true,
   "eqNumInitial": 1,
   "hotkeys": {
    "equation": "Ctrl-E",
    "itemize": "Ctrl-I"
   },
   "labels_anchors": false,
   "latex_user_defs": false,
   "report_style_numbering": false,
   "user_envs_cfg": false
  },
  "toc": {
   "nav_menu": {},
   "number_sections": true,
   "sideBar": true,
   "skip_h1_title": false,
   "title_cell": "Table of Contents",
   "title_sidebar": "Contents",
   "toc_cell": false,
   "toc_position": {},
   "toc_section_display": true,
   "toc_window_display": false
  },
  "varInspector": {
   "cols": {
    "lenName": 16,
    "lenType": 16,
    "lenVar": 40
   },
   "kernels_config": {
    "python": {
     "delete_cmd_postfix": "",
     "delete_cmd_prefix": "del ",
     "library": "var_list.py",
     "varRefreshCmd": "print(var_dic_list())"
    },
    "r": {
     "delete_cmd_postfix": ") ",
     "delete_cmd_prefix": "rm(",
     "library": "var_list.r",
     "varRefreshCmd": "cat(var_dic_list()) "
    }
   },
   "types_to_exclude": [
    "module",
    "function",
    "builtin_function_or_method",
    "instance",
    "_Feature"
   ],
   "window_display": false
  }
 },
 "nbformat": 4,
 "nbformat_minor": 2
}
